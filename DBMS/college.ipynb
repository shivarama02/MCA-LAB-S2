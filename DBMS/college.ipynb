{
 "cells": [
  {
   "cell_type": "code",
   "execution_count": 1,
   "id": "ae69c0bd",
   "metadata": {},
   "outputs": [],
   "source": [
    "import pymongo\n",
    "conn = pymongo.MongoClient(\"mongodb://localhost:27017/\")\n",
    "db = conn[\"college\"]\n",
    "col = db[\"studlist\"]"
   ]
  },
  {
   "cell_type": "code",
   "execution_count": 3,
   "id": "a42a3f41",
   "metadata": {},
   "outputs": [
    {
     "data": {
      "text/plain": [
       "InsertManyResult([1, 2, 3, 4, 5, 6], acknowledged=True)"
      ]
     },
     "execution_count": 3,
     "metadata": {},
     "output_type": "execute_result"
    }
   ],
   "source": [
    "import json\n",
    "with open(\"data.json\") as file:\n",
    "    data=json.load(file)\n",
    "db.studlist.insert_many(data)"
   ]
  },
  {
   "cell_type": "code",
   "execution_count": 6,
   "id": "87c94965",
   "metadata": {},
   "outputs": [
    {
     "name": "stdout",
     "output_type": "stream",
     "text": [
      "\n",
      "Name: Anjali Menon\n",
      "Mark:  92\n",
      "\n",
      "Name: Meera Das\n",
      "Mark:  88\n"
     ]
    }
   ],
   "source": [
    "result = col.find({\"gender\":\"female\",\"course\":\"MCA\"},{\"name\":1,\"mark\":1})\n",
    "for i in result:\n",
    "    print(\"\\nName: \"+i['name']['fname']+\" \"+i['name']['lname']+\"\\nMark: \",i['mark'])"
   ]
  },
  {
   "cell_type": "code",
   "execution_count": 13,
   "id": "40524363",
   "metadata": {},
   "outputs": [
    {
     "name": "stdout",
     "output_type": "stream",
     "text": [
      "_id:  1\n",
      "name:  {'fname': 'Anjali', 'lname': 'Menon'}\n",
      "gender:  female\n",
      "course:  MCA\n",
      "mark:  92\n",
      "grade:  A+\n",
      "phone:  {'no': '9876543210'}\n",
      "address:  {'city': 'Kollam'}\n"
     ]
    }
   ],
   "source": [
    "result = col.find({\"course\":\"MCA\"}).sort(\"mark\",-1).limit(1)\n",
    "for i in result:\n",
    "    for j in i.keys():\n",
    "        print(j+\": \",i[j])"
   ]
  },
  {
   "cell_type": "code",
   "execution_count": 15,
   "id": "9ce4cd1d",
   "metadata": {},
   "outputs": [
    {
     "name": "stdout",
     "output_type": "stream",
     "text": [
      "\n",
      "Name: Vishnu Raj\n",
      "Grade: A+\n",
      "\n",
      "Name: Rahul Nair\n",
      "Grade: A+\n"
     ]
    }
   ],
   "source": [
    "result = col.find({\"gender\":\"male\",\"grade\":\"A+\"})\n",
    "for i in result:\n",
    "    print(\"\\nName: \"+i['name']['fname']+\" \"+i['name']['lname']+\"\\nGrade: \"+i['grade'])"
   ]
  },
  {
   "cell_type": "code",
   "execution_count": 17,
   "id": "9ae545e4",
   "metadata": {},
   "outputs": [
    {
     "name": "stdout",
     "output_type": "stream",
     "text": [
      "\n",
      "Name: Vishnu Raj\n",
      "Department: Mechanical\n",
      "Mark:  95\n",
      "\n",
      "Name: Divya Pillai\n",
      "Department: Mechanical\n",
      "Mark:  94\n",
      "\n",
      "Name: Varun Krishnan\n",
      "Department: Mechanical\n",
      "Mark:  89\n"
     ]
    }
   ],
   "source": [
    "result = col.find({\"course\":\"Mechanical\"}).sort(\"mark\",-1).limit(3)\n",
    "for i in result:\n",
    "    print(\"\\nName: \"+i['name']['fname']+\" \"+i['name']['lname']+\"\\nDepartment: \"+i['course']+\"\\nMark: \",i['mark'])"
   ]
  },
  {
   "cell_type": "code",
   "execution_count": 19,
   "id": "9291116a",
   "metadata": {},
   "outputs": [
    {
     "name": "stdout",
     "output_type": "stream",
     "text": [
      "\n",
      "Name: Anjali Menon\n",
      "Grade: A+\n",
      "Mark:  92 \n",
      "Contact No:  9876543210\n",
      "\n",
      "Name: Divya Pillai\n",
      "Grade: A+\n",
      "Mark:  94 \n",
      "Contact No:  9876545678\n"
     ]
    }
   ],
   "source": [
    "result = col.find({\"mark\":{\"$gt\":90},\"gender\":\"female\"})\n",
    "for i in result:\n",
    "    print(\"\\nName: \"+i['name']['fname']+\" \"+i['name']['lname']+\"\\nGrade: \"+i['grade']+\"\\nMark: \",i['mark'],\"\\nContact No: \",i['phone']['no'])"
   ]
  },
  {
   "cell_type": "code",
   "execution_count": 20,
   "id": "10e3aefa",
   "metadata": {},
   "outputs": [
    {
     "name": "stdout",
     "output_type": "stream",
     "text": [
      "\n",
      "Name: Meera Das\n",
      "Grade: A\n",
      "Mark:  88 \n",
      "Contact No:  9876512345\n",
      "\n",
      "Name: Varun Krishnan\n",
      "Grade: A\n",
      "Mark:  89 \n",
      "Contact No:  9876534567\n"
     ]
    }
   ],
   "source": [
    "result = col.find({\"mark\":{\"$gt\":80,\"$lt\":90}})\n",
    "for i in result:\n",
    "    print(\"\\nName: \"+i['name']['fname']+\" \"+i['name']['lname']+\"\\nGrade: \"+i['grade']+\"\\nMark: \",i['mark'],\"\\nContact No: \",i['phone']['no'])"
   ]
  },
  {
   "cell_type": "code",
   "execution_count": 33,
   "id": "3fbac362",
   "metadata": {},
   "outputs": [
    {
     "name": "stdout",
     "output_type": "stream",
     "text": [
      "\n",
      "Name: Vishnu Raj\n",
      "Grade: A+ \n",
      "Mark:  95 \n",
      "Contact No:  9876501234\n",
      "\n",
      "Name: Varun Krishnan\n",
      "Grade: A \n",
      "Mark:  89 \n",
      "Contact No:  9876534567\n"
     ]
    }
   ],
   "source": [
    "result = col.find({\"name.fname\": {\"$regex\": \"^v\", \"$options\": \"i\"}})\n",
    "for i in result:\n",
    "    print(\"\\nName: \"+i['name']['fname']+\" \"+i['name']['lname']+\"\\nGrade: \"+i['grade'],\"\\nMark: \",i['mark'],\"\\nContact No: \",i['phone']['no'])"
   ]
  },
  {
   "cell_type": "code",
   "execution_count": 32,
   "id": "b3291125",
   "metadata": {},
   "outputs": [
    {
     "name": "stdout",
     "output_type": "stream",
     "text": [
      "\n",
      "Name: Anjali Menon \n",
      "City:  Kollam\n",
      "\n",
      "Name: Meera Das \n",
      "City:  Kollam\n",
      "\n",
      "Name: Varun Krishnan \n",
      "City:  Kollam\n"
     ]
    }
   ],
   "source": [
    "result = col.find({\"address.city\":\"Kollam\"})\n",
    "for i in result:\n",
    "    print(\"\\nName: \"+i['name']['fname']+\" \"+i['name']['lname'],\"\\nCity: \",i['address']['city'])"
   ]
  },
  {
   "cell_type": "code",
   "execution_count": 34,
   "id": "0ae455e1",
   "metadata": {},
   "outputs": [
    {
     "name": "stdout",
     "output_type": "stream",
     "text": [
      "\n",
      "Name: Rahul Nair \n",
      "City:  Alappuzha\n"
     ]
    }
   ],
   "source": [
    "result = col.find({\"address.city\":{\"$nin\":['Kollam','Thiruvananthapuram']}})\n",
    "for i in result:\n",
    "    print(\"\\nName: \"+i['name']['fname']+\" \"+i['name']['lname'],\"\\nCity: \",i['address']['city'])"
   ]
  },
  {
   "cell_type": "code",
   "execution_count": 35,
   "id": "f2c54aa6",
   "metadata": {},
   "outputs": [
    {
     "name": "stdout",
     "output_type": "stream",
     "text": [
      "\n",
      "Name: Anjali Menon \n",
      "City:  Kollam\n",
      "\n",
      "Name: Meera Das \n",
      "City:  Kollam\n",
      "\n",
      "Name: Divya Pillai \n",
      "City:  Thiruvananthapuram\n"
     ]
    }
   ],
   "source": [
    "result = col.find({\"gender\":\"female\",\"address.city\":{\"$in\":['Kollam','Thiruvananthapuram']}})\n",
    "for i in result:\n",
    "    print(\"\\nName: \"+i['name']['fname']+\" \"+i['name']['lname'],\"\\nCity: \",i['address']['city'])"
   ]
  }
 ],
 "metadata": {
  "kernelspec": {
   "display_name": "Python 3",
   "language": "python",
   "name": "python3"
  },
  "language_info": {
   "codemirror_mode": {
    "name": "ipython",
    "version": 3
   },
   "file_extension": ".py",
   "mimetype": "text/x-python",
   "name": "python",
   "nbconvert_exporter": "python",
   "pygments_lexer": "ipython3",
   "version": "3.12.2"
  }
 },
 "nbformat": 4,
 "nbformat_minor": 5
}
