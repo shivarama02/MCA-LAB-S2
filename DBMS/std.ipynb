{
 "cells": [
  {
   "cell_type": "code",
   "execution_count": 1,
   "id": "bd4714c0",
   "metadata": {},
   "outputs": [],
   "source": [
    "import pymongo\n",
    "conn = pymongo.MongoClient(\"mongodb://localhost:27017/\")\n",
    "db = conn[\"exam\"]\n",
    "collection = db[\"student\"]"
   ]
  },
  {
   "cell_type": "code",
   "execution_count": 3,
   "id": "ab53a50b",
   "metadata": {},
   "outputs": [],
   "source": [
    "students = [\n",
    "    {\n",
    "        \"_id\": 1,\n",
    "        \"Name\": \"Anjali\",\n",
    "        \"Place\": \"Kollam\",\n",
    "        \"Phone\": \"8582639562\",\n",
    "        \"Vaccination_status\": \"Both vaccinated\",\n",
    "        \"RTPCR\": \"negative\",\n",
    "        \"Lab_mark\": {\"Internal\": 30, \"External\": 45},\n",
    "        \"Department\": \"MCA\"\n",
    "    },\n",
    "    {\n",
    "        \"_id\": 2,\n",
    "        \"Name\": \"Anuradha\",\n",
    "        \"Place\": \"Varkala\",\n",
    "        \"Phone\": \"9992639562\",\n",
    "        \"Vaccination_status\": \"Both vaccinated\",\n",
    "        \"RTPCR\": \"negative\",\n",
    "        \"Lab_mark\": {\"Internal\": 40, \"External\": 48},\n",
    "        \"Department\": \"Civil\"\n",
    "    },\n",
    "    {\n",
    "        \"_id\": 3,\n",
    "        \"Name\": \"Bisiniya\",\n",
    "        \"Place\": \"Kollam\",\n",
    "        \"Phone\": \"9446639562\",\n",
    "        \"Vaccination_status\": \"not vaccinated\",\n",
    "        \"RTPCR\": \"positive\",\n",
    "        \"Lab_mark\": {\"Internal\": 50, \"External\": 39},\n",
    "        \"Department\": \"MCA\"\n",
    "    },\n",
    "    {\n",
    "        \"_id\": 4,\n",
    "        \"Name\": \"Vimal\",\n",
    "        \"Place\": \"Ernakulam\",\n",
    "        \"Phone\": \"8582639568\",\n",
    "        \"Vaccination_status\": \"First dose only\",\n",
    "        \"RTPCR\": \"positive\",\n",
    "        \"Lab_mark\": {\"Internal\": 40, \"External\": 42},\n",
    "        \"Department\": \"Civil\"\n",
    "    },\n",
    "    {\n",
    "        \"_id\": 5,\n",
    "        \"Name\": \"Vivek\",\n",
    "        \"Place\": \"Kollam\",\n",
    "        \"Phone\": \"8582639777\",\n",
    "        \"Vaccination_status\": \"Both vaccinated\",\n",
    "        \"RTPCR\": \"negative\",\n",
    "        \"Lab_mark\": {\"Internal\": 50, \"External\": 50},\n",
    "        \"Department\": \"MCA\"\n",
    "    }\n",
    "]"
   ]
  },
  {
   "cell_type": "code",
   "execution_count": 4,
   "id": "a3d7c5d1",
   "metadata": {},
   "outputs": [
    {
     "data": {
      "text/plain": [
       "InsertManyResult([1, 2, 3, 4, 5], acknowledged=True)"
      ]
     },
     "execution_count": 4,
     "metadata": {},
     "output_type": "execute_result"
    }
   ],
   "source": [
    "collection.insert_many(students)"
   ]
  },
  {
   "cell_type": "code",
   "execution_count": 16,
   "id": "faa2eeab",
   "metadata": {},
   "outputs": [
    {
     "name": "stdout",
     "output_type": "stream",
     "text": [
      "no.of students both vaccinated:  3\n"
     ]
    }
   ],
   "source": [
    "count = collection.count_documents({\"Vaccination_status\":\"Both vaccinated\"})\n",
    "print(\"no.of students both vaccinated: \",count)"
   ]
  },
  {
   "cell_type": "code",
   "execution_count": 8,
   "id": "7fea52df",
   "metadata": {},
   "outputs": [
    {
     "name": "stdout",
     "output_type": "stream",
     "text": [
      "{'Name': 'Vivek', 'Phone': '8582639777'}\n",
      "{'Name': 'Anjali', 'Phone': '8582639562'}\n",
      "{'Name': 'Bisiniya', 'Phone': '9446639562'}\n"
     ]
    }
   ],
   "source": [
    "result = collection.find({\"Department\": \"MCA\"}, {\"_id\": 0, \"Name\": 1, \"Phone\": 1}).sort(\"Lab_mark.External\", -1)\n",
    "for i in result:\n",
    "    print(i)"
   ]
  },
  {
   "cell_type": "code",
   "execution_count": 14,
   "id": "b14b3d70",
   "metadata": {},
   "outputs": [
    {
     "name": "stdout",
     "output_type": "stream",
     "text": [
      "{'Name': 'Anjali', 'Department': 'MCA'}\n",
      "{'Name': 'Anuradha', 'Department': 'Civil'}\n"
     ]
    }
   ],
   "source": [
    "results = collection.find({\"Name\": {\"$regex\": \"^A\"}},{\"_id\":0, \"Name\":1, \"Department\":1})\n",
    "for i in results:\n",
    "    print(i)"
   ]
  },
  {
   "cell_type": "code",
   "execution_count": 19,
   "id": "97b86973",
   "metadata": {},
   "outputs": [
    {
     "name": "stdout",
     "output_type": "stream",
     "text": [
      "{'Name': 'Vivek', 'Phone': '8582639777'}\n",
      "{'Name': 'Anjali', 'Phone': '8582639562'}\n"
     ]
    }
   ],
   "source": [
    "topstd = collection.find({\"Department\": \"MCA\"},{\"_id\":0,\"Name\":1,\"Phone\":1}).sort(\"Lab_mark.External\", -1).limit(2)\n",
    "for i in topstd:\n",
    "    print(i)"
   ]
  },
  {
   "cell_type": "code",
   "execution_count": 21,
   "id": "9c204aaa",
   "metadata": {},
   "outputs": [],
   "source": [
    "vaccination = collection.update_one({\"_id\":4},{\"$set\":{\"Vaccination_status\":\"Both vaccinated\"}})"
   ]
  }
 ],
 "metadata": {
  "kernelspec": {
   "display_name": "Python 3",
   "language": "python",
   "name": "python3"
  },
  "language_info": {
   "codemirror_mode": {
    "name": "ipython",
    "version": 3
   },
   "file_extension": ".py",
   "mimetype": "text/x-python",
   "name": "python",
   "nbconvert_exporter": "python",
   "pygments_lexer": "ipython3",
   "version": "3.12.2"
  }
 },
 "nbformat": 4,
 "nbformat_minor": 5
}
